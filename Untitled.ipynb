{
 "cells": [
  {
   "cell_type": "code",
   "execution_count": null,
   "id": "abee6e47-0b5e-4329-b84e-cc691bc54823",
   "metadata": {
    "scrolled": true
   },
   "outputs": [
    {
     "name": "stderr",
     "output_type": "stream",
     "text": [
      "libdecor-gtk-WARNING: Failed to initialize GTK\n",
      "Failed to load plugin 'libdecor-gtk.so': failed to init\n"
     ]
    },
    {
     "name": "stdout",
     "output_type": "stream",
     "text": [
      "\u001b[1;33m[Open3D WARNING] GLFW Error: Wayland: The platform does not support setting the window position\u001b[0;m\n",
      "\u001b[1;33m[Open3D WARNING] Failed to initialize GLEW.\u001b[0;m\n",
      "\u001b[1;33m[Open3D WARNING] [DrawGeometries] Failed creating OpenGL window.\u001b[0;m\n"
     ]
    },
    {
     "name": "stderr",
     "output_type": "stream",
     "text": [
      "/home/edfokin/miniconda3/envs/neural_acd/lib/python3.10/site-packages/torch/functional.py:534: UserWarning: torch.meshgrid: in an upcoming release, it will be required to pass the indexing argument. (Triggered internally at /opt/conda/conda-bld/pytorch_1729647382455/work/aten/src/ATen/native/TensorShape.cpp:3595.)\n",
      "  return _VF.meshgrid(tensors, **kwargs)  # type: ignore[attr-defined]\n",
      "libdecor-gtk-WARNING: Failed to initialize GTK\n",
      "Failed to load plugin 'libdecor-gtk.so': failed to init\n"
     ]
    }
   ],
   "source": [
    "import os\n",
    "import sys\n",
    "from model.model import PlaneEstimationModel\n",
    "\n",
    "import torch\n",
    "import torch.nn.functional as F\n",
    "\n",
    "\n",
    "import h5py\n",
    "import open3d as o3d\n",
    "\n",
    "import numpy as np\n",
    "\n",
    "pcd = o3d.geometry.PointCloud()\n",
    "pcd.points = o3d.utility.Vector3dVector(np.random.rand(512, 3))\n",
    "pcd.points = o3d.utility.Vector3dVector(np.random.rand(512, 3))\n",
    "pcd.points = o3d.utility.Vector3dVector(np.random.rand(512, 3))\n",
    "pcd.points = o3d.utility.Vector3dVector(np.random.rand(512, 3))\n",
    "\n",
    "o3d.visualization.draw_geometries([pcd])\n",
    "\n",
    "exit()\n",
    "\n",
    "def visualize_pointcloud_with_vector(pointcloud: np.ndarray, direction: np.ndarray):\n",
    "\n",
    "    pointcloud = pointcloud.transpose(1, 0)  # Ensure pointcloud is (N, 3)\n",
    "\n",
    "    # Create the point cloud geometry\n",
    "    pcd = o3d.geometry.PointCloud()\n",
    "    pcd.points = o3d.utility.Vector3dVector(pointcloud)\n",
    "    pcd.points = o3d.utility.Vector3dVector(np.random.rand(512, 3))\n",
    "\n",
    "    # Normalize and scale the direction vector\n",
    "    origin = np.array([0, 0, 0])\n",
    "    length = np.linalg.norm(direction)\n",
    "    if length == 0:\n",
    "        raise ValueError(\"Direction vector must be non-zero\")\n",
    "    direction_unit = direction / length\n",
    "    print(direction.shape)\n",
    "\n",
    "    # Create an arrow to represent the vector\n",
    "    arrow = o3d.geometry.TriangleMesh.create_arrow(\n",
    "        cylinder_radius=0.01,\n",
    "        cone_radius=0.02,\n",
    "        cylinder_height=0.9 * length,\n",
    "        cone_height=0.1 * length\n",
    "    )\n",
    "    arrow.paint_uniform_color([1, 0, 0])  # red\n",
    "\n",
    "    # Align arrow with the vector direction\n",
    "    default_dir = np.array([0, 1, 0])  # Open3D arrow points along +Y by default\n",
    "    rot_axis = np.cross(default_dir, direction_unit)\n",
    "    if np.linalg.norm(rot_axis) < 1e-6:\n",
    "        # vectors are aligned or opposite\n",
    "        if np.dot(default_dir, direction_unit) > 0:\n",
    "            R = np.eye(3)\n",
    "        else:\n",
    "            R = o3d.geometry.get_rotation_matrix_from_axis_angle(np.pi * np.array([1, 0, 0]))\n",
    "    else:\n",
    "        rot_angle = np.arccos(np.clip(np.dot(default_dir, direction_unit), -1.0, 1.0))\n",
    "        rot_axis = rot_axis / np.linalg.norm(rot_axis)\n",
    "        R = o3d.geometry.get_rotation_matrix_from_axis_angle(rot_angle * rot_axis)\n",
    "\n",
    "    arrow.rotate(R, center=(0, 0, 0))\n",
    "    arrow.translate(origin)\n",
    "\n",
    "    # Optional: Add coordinate frame\n",
    "    coord_frame = o3d.geometry.TriangleMesh.create_coordinate_frame(size=0.2)\n",
    "\n",
    "    # Show all geometries\n",
    "    o3d.visualization.draw_geometries([pcd, arrow, coord_frame])\n",
    "\n",
    "# Define the rotation matrix\n",
    "R = np.array([\n",
    "    [-0.4770903,   0.51424753, -0.71269511],\n",
    "    [ 0.0990949,   0.83724194,  0.53777888],\n",
    "    [ 0.8732497,   0.18594464, -0.45039932]\n",
    "])\n",
    "\n",
    "\n",
    "predictor = PlaneEstimationModel.load_from_checkpoint(\n",
    "    'checkpoints/best-model-epoch=89-val_loss=0.21.ckpt')\n",
    "\n",
    "predictor.eval()\n",
    "\n",
    "with h5py.File(\"data/val_data.h5\", 'r') as f:\n",
    "    data = f['point_clouds'][:]  # shape (N, 512, 3)\n",
    "    hashes = f['hashes'][:]\n",
    "\n",
    "\n",
    "with torch.no_grad():\n",
    "    for pc in data:\n",
    "        #pc = data[0]\n",
    "\n",
    "\n",
    "        pc = torch.tensor(pc, dtype=torch.float32).unsqueeze(0)  \n",
    "\n",
    "        pc = pc.transpose(1, 2).cuda()\n",
    "\n",
    "        normal = predictor(pc)\n",
    "\n",
    "        print(normal)\n",
    "\n",
    "\n",
    "        visualize_pointcloud_with_vector(pc.squeeze().cpu().numpy(), normal.squeeze().cpu().numpy())\n",
    "\n",
    "        exit()"
   ]
  },
  {
   "cell_type": "code",
   "execution_count": null,
   "id": "2f7faf4d-14c7-4ede-be13-d83f5255d1e7",
   "metadata": {},
   "outputs": [],
   "source": []
  }
 ],
 "metadata": {
  "kernelspec": {
   "display_name": "Python 3 (ipykernel)",
   "language": "python",
   "name": "python3"
  },
  "language_info": {
   "codemirror_mode": {
    "name": "ipython",
    "version": 3
   },
   "file_extension": ".py",
   "mimetype": "text/x-python",
   "name": "python",
   "nbconvert_exporter": "python",
   "pygments_lexer": "ipython3",
   "version": "3.10.14"
  }
 },
 "nbformat": 4,
 "nbformat_minor": 5
}
